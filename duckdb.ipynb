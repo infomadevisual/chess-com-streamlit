{
 "cells": [
  {
   "cell_type": "code",
   "execution_count": null,
   "id": "0",
   "metadata": {},
   "outputs": [],
   "source": [
    "import duckdb\n",
    "\n",
    "print(duckdb.__version__)\n",
    "con = duckdb.connect(database=\":memory:\")"
   ]
  },
  {
   "cell_type": "code",
   "execution_count": null,
   "id": "1",
   "metadata": {},
   "outputs": [],
   "source": [
    "duckdb.install_extension(\"icu\")\n",
    "duckdb.load_extension(\"icu\")\n",
    "\n",
    "con.execute(\"\"\"\n",
    "SELECT extension_name, installed, description\n",
    "FROM duckdb_extensions();\n",
    "            \"\"\").fetchdf()"
   ]
  },
  {
   "cell_type": "code",
   "execution_count": null,
   "id": "2",
   "metadata": {},
   "outputs": [],
   "source": [
    "con.execute(\"\"\"\n",
    "SELECT name, abbrev\n",
    "FROM pg_timezone_names()\n",
    "ORDER BY name;\n",
    "\"\"\").fetchdf()\n"
   ]
  },
  {
   "cell_type": "code",
   "execution_count": null,
   "id": "3",
   "metadata": {},
   "outputs": [],
   "source": [
    "# Load Games\n",
    "\n",
    "from pathlib import Path\n",
    "from duckdb import DuckDBPyConnection\n",
    "\n",
    "\n",
    "def ensure_user_view(games_path: Path, tz: str = \"America/Los_Angeles\"\n",
    ") -> tuple[DuckDBPyConnection, str]:\n",
    "    con.execute(f\"SET TimeZone = '{tz}';\")\n",
    "\n",
    "    view = f\"games\"\n",
    "    con.execute(\n",
    "        f\"\"\"\n",
    "        CREATE OR REPLACE VIEW {view} AS\n",
    "        SELECT\n",
    "            *\n",
    "        FROM parquet_scan('{games_path.as_posix()}');\n",
    "    \"\"\"\n",
    "    )\n",
    "    return con, view\n",
    "\n",
    "ensure_user_view(Path('.cache/joeshift/games.parquet'))"
   ]
  },
  {
   "cell_type": "code",
   "execution_count": null,
   "id": "4",
   "metadata": {},
   "outputs": [],
   "source": [
    "con.execute(\"DESCRIBE SELECT * FROM games;\").df()"
   ]
  },
  {
   "cell_type": "code",
   "execution_count": null,
   "id": "5",
   "metadata": {},
   "outputs": [],
   "source": [
    "con.execute(\"SELECT * from games\").fetchdf()"
   ]
  },
  {
   "cell_type": "code",
   "execution_count": null,
   "id": "6",
   "metadata": {},
   "outputs": [],
   "source": [
    "# fetch min/max timestamps\n",
    "import pandas as pd\n",
    "\n",
    "\n",
    "min_max = con.execute(\"\"\"\n",
    "    SELECT\n",
    "      date_trunc('month', MIN(end_time)) AS min_month,\n",
    "      date_trunc('month', MAX(end_time)) AS max_month\n",
    "    FROM games;\n",
    "\"\"\").fetchone()\n",
    "\n",
    "if min_max is None:\n",
    "    raise ValueError(\"Cannot get min/max from end_time\")\n",
    "min_m, max_m = pd.to_datetime(min_max[0]), pd.to_datetime(min_max[1])\n",
    "\n",
    "# build continuous month sequence\n",
    "months = pd.period_range(start=min_m, end=max_m, freq=\"M\")\n",
    "labels = months.strftime(\"%Y-%m\").tolist()\n",
    "\n",
    "labels"
   ]
  },
  {
   "cell_type": "code",
   "execution_count": null,
   "id": "7",
   "metadata": {},
   "outputs": [],
   "source": [
    "lst = [r[0] for r in con.execute(\n",
    "    \"SELECT DISTINCT rated FROM games ORDER BY rated;\"\n",
    ").fetchall()]\n",
    "lst"
   ]
  },
  {
   "cell_type": "code",
   "execution_count": null,
   "id": "8",
   "metadata": {},
   "outputs": [],
   "source": [
    "lst = [r[0] for r in con.execute(\n",
    "    \"SELECT DISTINCT time_class FROM games;\"\n",
    ").fetchall()]"
   ]
  },
  {
   "cell_type": "code",
   "execution_count": null,
   "id": "9",
   "metadata": {},
   "outputs": [],
   "source": [
    "from typing import Any\n",
    "\n",
    "from utils.session import CurrentFilters\n",
    "\n",
    "\n",
    "SQL = \"\"\"\n",
    "WITH filtered AS (\n",
    "  SELECT *\n",
    "  FROM games\n",
    "  WHERE 1=1\n",
    "    {w_time}\n",
    "    {w_class}\n",
    "    {w_rated}\n",
    "),\n",
    "base AS (\n",
    "  SELECT\n",
    "    COUNT(*)                            AS total,\n",
    "    AVG(opponent_rating)                AS avg_opponent_rating,\n",
    "    SUM(user_result_simple = 'win')     AS wins,\n",
    "    SUM(user_result_simple = 'draw')    AS draws,\n",
    "    SUM(user_result_simple = 'loss')    AS losses\n",
    "  FROM filtered\n",
    "),\n",
    "rated AS (\n",
    "  SELECT\n",
    "    COUNT(*)                                AS n_rated,\n",
    "    arg_min(user_rating, end_time)    AS first_r,\n",
    "    arg_max(user_rating, end_time)    AS last_r\n",
    "  FROM filtered\n",
    "  WHERE rated = TRUE\n",
    ")\n",
    "SELECT\n",
    "  base.total,\n",
    "  COALESCE(wins::DOUBLE  / NULLIF(base.total, 0), 0) AS win_rate,\n",
    "  COALESCE(draws::DOUBLE / NULLIF(base.total, 0), 0) AS draw_rate,\n",
    "  COALESCE(losses::DOUBLE/ NULLIF(base.total, 0), 0) AS loss_rate,\n",
    "  base.avg_opponent_rating,\n",
    "  CASE WHEN rated.n_rated >= 2 THEN last_r - first_r ELSE 0 END AS rated_delta\n",
    "FROM base CROSS JOIN rated;\n",
    "\"\"\"\n",
    "\n",
    "w_time, w_class, w_rated = \"\", \"\", \"\"\n",
    "params: list[Any] = []\n",
    "f = CurrentFilters(\n",
    "    month_start=\"2025-09\",\n",
    "    month_end=\"2025-10\",\n",
    "    time_class=\"All\",\n",
    "    rated_only=True\n",
    ")\n",
    "start = pd.Period(f.month_start, freq=\"M\").to_timestamp(\"M\") if f.month_start else None\n",
    "end = (pd.Period(f.month_end, freq=\"M\") + 1).to_timestamp(\"M\") if f.month_end else None\n",
    "if start is not None:\n",
    "    w_time += \" AND end_time >= ?\"\n",
    "    params.append(pd.Timestamp(start).to_pydatetime())\n",
    "if end is not None:\n",
    "    w_time += \" AND end_time < ?\"\n",
    "    params.append(pd.Timestamp(end).to_pydatetime())\n",
    "\n",
    "if f.time_class and f.time_class != \"All\":\n",
    "    w_class += \" AND time_class = ?\"\n",
    "    params.append(f.time_class)\n",
    "\n",
    "if f.rated_only is True:\n",
    "    w_rated += \" AND rated = TRUE\"\n",
    "elif f.rated_only is False:\n",
    "    w_rated += \" AND rated = FALSE\"\n",
    "\n",
    "q = SQL.format(w_time=w_time, w_class=w_class, w_rated=w_rated)\n",
    "cur = con.execute(q, params)  # used in both CTEs by position\n",
    "\n",
    "row = cur.fetchone()\n",
    "if not row:\n",
    "    return Summary(total=0, win_rate=0.0, draw_rate=0.0, loss_rate=0.0,\n",
    "                    avg_opponent_rating=None, rated_delta=0)\n",
    "cols = [d[0] for d in cur.description]\n",
    "return Summary.model_validate(dict(zip(cols, row)))"
   ]
  }
 ],
 "metadata": {
  "kernelspec": {
   "display_name": ".venv",
   "language": "python",
   "name": "python3"
  },
  "language_info": {
   "codemirror_mode": {
    "name": "ipython",
    "version": 3
   },
   "file_extension": ".py",
   "mimetype": "text/x-python",
   "name": "python",
   "nbconvert_exporter": "python",
   "pygments_lexer": "ipython3",
   "version": "3.13.7"
  }
 },
 "nbformat": 4,
 "nbformat_minor": 5
}

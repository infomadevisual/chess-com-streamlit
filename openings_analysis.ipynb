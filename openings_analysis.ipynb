{
 "cells": [
  {
   "cell_type": "code",
   "execution_count": 17,
   "id": "3ed6cfbb",
   "metadata": {},
   "outputs": [],
   "source": [
    "from utils.chesscom_downloader import ChesscomDownloader\n",
    "from utils.openings_catalog import attach_openings, load_openings_catalog\n",
    "\n",
    "downloader = ChesscomDownloader(timeout=20.0, sleep_sec=0.2)\n",
    "username = \"joeshift\"\n",
    "df = downloader.load_from_cache(username, timezone=\"Europe/Berlin\")\n",
    "catalog = load_openings_catalog()\n",
    "\n",
    "df = attach_openings(df, catalog)"
   ]
  },
  {
   "cell_type": "code",
   "execution_count": 19,
   "id": "93d4e900",
   "metadata": {},
   "outputs": [
    {
     "data": {
      "text/html": [
       "<div>\n",
       "<style scoped>\n",
       "    .dataframe tbody tr th:only-of-type {\n",
       "        vertical-align: middle;\n",
       "    }\n",
       "\n",
       "    .dataframe tbody tr th {\n",
       "        vertical-align: top;\n",
       "    }\n",
       "\n",
       "    .dataframe thead th {\n",
       "        text-align: right;\n",
       "    }\n",
       "</style>\n",
       "<table border=\"1\" class=\"dataframe\">\n",
       "  <thead>\n",
       "    <tr style=\"text-align: right;\">\n",
       "      <th></th>\n",
       "      <th>eco</th>\n",
       "      <th>name</th>\n",
       "      <th>variation</th>\n",
       "      <th>moves</th>\n",
       "      <th>moves_key12</th>\n",
       "      <th>slug</th>\n",
       "    </tr>\n",
       "  </thead>\n",
       "  <tbody>\n",
       "    <tr>\n",
       "      <th>0</th>\n",
       "      <td>A00</td>\n",
       "      <td>Amar Opening</td>\n",
       "      <td></td>\n",
       "      <td></td>\n",
       "      <td></td>\n",
       "      <td>amar-opening</td>\n",
       "    </tr>\n",
       "    <tr>\n",
       "      <th>1</th>\n",
       "      <td>A00</td>\n",
       "      <td>Amar Opening: Paris Gambit</td>\n",
       "      <td></td>\n",
       "      <td></td>\n",
       "      <td></td>\n",
       "      <td>amar-opening-paris-gambit</td>\n",
       "    </tr>\n",
       "    <tr>\n",
       "      <th>2</th>\n",
       "      <td>A00</td>\n",
       "      <td>Amar Opening: Paris Gambit, Gent Gambit</td>\n",
       "      <td></td>\n",
       "      <td></td>\n",
       "      <td></td>\n",
       "      <td>amar-opening-paris-gambit-gent-gambit</td>\n",
       "    </tr>\n",
       "    <tr>\n",
       "      <th>3</th>\n",
       "      <td>A00</td>\n",
       "      <td>Amsterdam Attack</td>\n",
       "      <td></td>\n",
       "      <td></td>\n",
       "      <td></td>\n",
       "      <td>amsterdam-attack</td>\n",
       "    </tr>\n",
       "    <tr>\n",
       "      <th>4</th>\n",
       "      <td>A00</td>\n",
       "      <td>Anderssen's Opening</td>\n",
       "      <td></td>\n",
       "      <td></td>\n",
       "      <td></td>\n",
       "      <td>anderssen-s-opening</td>\n",
       "    </tr>\n",
       "    <tr>\n",
       "      <th>5</th>\n",
       "      <td>A00</td>\n",
       "      <td>Anderssen's Opening: Polish Gambit</td>\n",
       "      <td></td>\n",
       "      <td></td>\n",
       "      <td></td>\n",
       "      <td>anderssen-s-opening-polish-gambit</td>\n",
       "    </tr>\n",
       "    <tr>\n",
       "      <th>6</th>\n",
       "      <td>A00</td>\n",
       "      <td>Barnes Opening</td>\n",
       "      <td></td>\n",
       "      <td></td>\n",
       "      <td></td>\n",
       "      <td>barnes-opening</td>\n",
       "    </tr>\n",
       "    <tr>\n",
       "      <th>7</th>\n",
       "      <td>A00</td>\n",
       "      <td>Barnes Opening: Fool's Mate</td>\n",
       "      <td></td>\n",
       "      <td></td>\n",
       "      <td></td>\n",
       "      <td>barnes-opening-fool-s-mate</td>\n",
       "    </tr>\n",
       "    <tr>\n",
       "      <th>8</th>\n",
       "      <td>A00</td>\n",
       "      <td>Barnes Opening: Gedult Gambit</td>\n",
       "      <td></td>\n",
       "      <td></td>\n",
       "      <td></td>\n",
       "      <td>barnes-opening-gedult-gambit</td>\n",
       "    </tr>\n",
       "    <tr>\n",
       "      <th>10</th>\n",
       "      <td>A00</td>\n",
       "      <td>Barnes Opening: Hammerschlag</td>\n",
       "      <td></td>\n",
       "      <td></td>\n",
       "      <td></td>\n",
       "      <td>barnes-opening-hammerschlag</td>\n",
       "    </tr>\n",
       "  </tbody>\n",
       "</table>\n",
       "</div>"
      ],
      "text/plain": [
       "    eco                                     name variation moves moves_key12  \\\n",
       "0   A00                             Amar Opening                               \n",
       "1   A00               Amar Opening: Paris Gambit                               \n",
       "2   A00  Amar Opening: Paris Gambit, Gent Gambit                               \n",
       "3   A00                         Amsterdam Attack                               \n",
       "4   A00                      Anderssen's Opening                               \n",
       "5   A00       Anderssen's Opening: Polish Gambit                               \n",
       "6   A00                           Barnes Opening                               \n",
       "7   A00              Barnes Opening: Fool's Mate                               \n",
       "8   A00            Barnes Opening: Gedult Gambit                               \n",
       "10  A00             Barnes Opening: Hammerschlag                               \n",
       "\n",
       "                                     slug  \n",
       "0                            amar-opening  \n",
       "1               amar-opening-paris-gambit  \n",
       "2   amar-opening-paris-gambit-gent-gambit  \n",
       "3                        amsterdam-attack  \n",
       "4                     anderssen-s-opening  \n",
       "5       anderssen-s-opening-polish-gambit  \n",
       "6                          barnes-opening  \n",
       "7              barnes-opening-fool-s-mate  \n",
       "8            barnes-opening-gedult-gambit  \n",
       "10            barnes-opening-hammerschlag  "
      ]
     },
     "execution_count": 19,
     "metadata": {},
     "output_type": "execute_result"
    }
   ],
   "source": [
    "catalog = load_openings_catalog()\n",
    "catalog.head(10)"
   ]
  },
  {
   "cell_type": "code",
   "execution_count": null,
   "id": "dc23f0c0",
   "metadata": {},
   "outputs": [
    {
     "name": "stderr",
     "output_type": "stream",
     "text": [
      "Creating parquet from Arrow format: 100%|██████████| 3/3 [00:00<00:00, 11.71ba/s]"
     ]
    },
    {
     "name": "stdout",
     "output_type": "stream",
     "text": [
      "Saved data/openings.parquet\n"
     ]
    },
    {
     "name": "stderr",
     "output_type": "stream",
     "text": [
      "\n"
     ]
    }
   ],
   "source": []
  }
 ],
 "metadata": {
  "kernelspec": {
   "display_name": ".venv",
   "language": "python",
   "name": "python3"
  },
  "language_info": {
   "codemirror_mode": {
    "name": "ipython",
    "version": 3
   },
   "file_extension": ".py",
   "mimetype": "text/x-python",
   "name": "python",
   "nbconvert_exporter": "python",
   "pygments_lexer": "ipython3",
   "version": "3.13.7"
  }
 },
 "nbformat": 4,
 "nbformat_minor": 5
}

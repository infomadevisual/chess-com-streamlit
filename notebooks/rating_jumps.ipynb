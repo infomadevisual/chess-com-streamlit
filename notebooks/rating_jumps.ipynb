{
 "cells": [
  {
   "cell_type": "markdown",
   "id": "0",
   "metadata": {},
   "source": [
    "Observation: Large jumps in the rating of a player (hikaru, gothamchess)\n",
    "Outcome: Possible reasons\n",
    "- No bullet games were played in the skipped months — the next bullet game shows the updated bullet rating (possibly affected by global rating recalibration or inactivity decay).\n",
    "- Rating resets or re-calibrations — Chess.com occasionally normalizes ratings across all users; you’ll see a step change even without games.\n",
    "\n",
    "Unlikely but affects rating: Chess.com’s archive skipped some months — their API sometimes omits empty or partial archives, creating time gaps."
   ]
  },
  {
   "cell_type": "code",
   "execution_count": null,
   "id": "1",
   "metadata": {},
   "outputs": [],
   "source": [
    "from utils.chesscom_downloader import ChesscomDownloader\n",
    "import matplotlib.pyplot as plt\n",
    "\n",
    "downloader = ChesscomDownloader(timeout=20.0, sleep_sec=0.2)\n",
    "username = \"gothamchess\"\n",
    "df = downloader.load_from_cache(username, timezone=\"Europe/Berlin\")\n"
   ]
  },
  {
   "cell_type": "code",
   "execution_count": null,
   "id": "2",
   "metadata": {},
   "outputs": [],
   "source": [
    "mask = df[\"time_class\"].astype(str).isin([\"bullet\"])\n",
    "df = df[mask]\n",
    "df"
   ]
  },
  {
   "cell_type": "code",
   "execution_count": null,
   "id": "3",
   "metadata": {},
   "outputs": [],
   "source": [
    "df = df[\n",
    "    (df[\"end_time\"].dt.year == 2025) &\n",
    "    (df[\"end_time\"].dt.month.isin([1, 2]))\n",
    "]\n",
    "df"
   ]
  }
 ],
 "metadata": {
  "kernelspec": {
   "display_name": ".venv",
   "language": "python",
   "name": "python3"
  },
  "language_info": {
   "codemirror_mode": {
    "name": "ipython",
    "version": 3
   },
   "file_extension": ".py",
   "mimetype": "text/x-python",
   "name": "python",
   "nbconvert_exporter": "python",
   "pygments_lexer": "ipython3",
   "version": "3.13.7"
  }
 },
 "nbformat": 4,
 "nbformat_minor": 5
}

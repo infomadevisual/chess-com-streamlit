{
 "cells": [
  {
   "cell_type": "code",
   "execution_count": 1,
   "id": "331800bc",
   "metadata": {},
   "outputs": [],
   "source": [
    "from utils.chesscom_downloader import ChesscomDownloader\n",
    "import matplotlib.pyplot as plt\n",
    "\n",
    "downloader = ChesscomDownloader(timeout=20.0, sleep_sec=0.2)\n",
    "username = \"joeshift\"\n",
    "df = downloader.load_from_cache(username, timezone=\"Europe/Berlin\")"
   ]
  },
  {
   "cell_type": "code",
   "execution_count": 2,
   "id": "386c3b0d",
   "metadata": {},
   "outputs": [
    {
     "data": {
      "text/plain": [
       "Index(['end_time', 'username', 'opponent_username', 'user_played_as',\n",
       "       'user_result', 'user_result_simple', 'opponent_result', 'user_rating',\n",
       "       'opponent_rating', 'rated', 'rules', 'time_class', 'time_control',\n",
       "       'time_label', 'initial_setup_fen', 'game_url', 'eco_url',\n",
       "       'tournament_url', 'end_time_local', 'eco', 'moves_normalized',\n",
       "       'moves_san_json', 'clocks_json', 'n_plies', 'opening_id',\n",
       "       'matched_plies', 'matched_fullmove', 'matched_prefix_json',\n",
       "       'opening_fullname', 'opening_name', 'opening_variation',\n",
       "       'opening_moves_san_json'],\n",
       "      dtype='object')"
      ]
     },
     "execution_count": 2,
     "metadata": {},
     "output_type": "execute_result"
    }
   ],
   "source": [
    "df.columns"
   ]
  },
  {
   "cell_type": "code",
   "execution_count": 3,
   "id": "66ceea8a",
   "metadata": {},
   "outputs": [
    {
     "data": {
      "application/vnd.microsoft.datawrangler.viewer.v0+json": {
       "columns": [
        {
         "name": "index",
         "rawType": "int64",
         "type": "integer"
        },
        {
         "name": "end_time",
         "rawType": "datetime64[ns, UTC]",
         "type": "unknown"
        },
        {
         "name": "username",
         "rawType": "object",
         "type": "string"
        },
        {
         "name": "opponent_username",
         "rawType": "object",
         "type": "string"
        },
        {
         "name": "user_played_as",
         "rawType": "object",
         "type": "string"
        },
        {
         "name": "user_result",
         "rawType": "object",
         "type": "string"
        },
        {
         "name": "user_result_simple",
         "rawType": "object",
         "type": "string"
        },
        {
         "name": "opponent_result",
         "rawType": "object",
         "type": "string"
        },
        {
         "name": "user_rating",
         "rawType": "int64",
         "type": "integer"
        },
        {
         "name": "opponent_rating",
         "rawType": "int64",
         "type": "integer"
        },
        {
         "name": "rated",
         "rawType": "bool",
         "type": "boolean"
        },
        {
         "name": "rules",
         "rawType": "object",
         "type": "string"
        },
        {
         "name": "time_class",
         "rawType": "object",
         "type": "string"
        },
        {
         "name": "time_control",
         "rawType": "object",
         "type": "string"
        },
        {
         "name": "time_label",
         "rawType": "object",
         "type": "string"
        },
        {
         "name": "initial_setup_fen",
         "rawType": "object",
         "type": "string"
        },
        {
         "name": "game_url",
         "rawType": "object",
         "type": "string"
        },
        {
         "name": "eco_url",
         "rawType": "object",
         "type": "unknown"
        },
        {
         "name": "tournament_url",
         "rawType": "object",
         "type": "unknown"
        },
        {
         "name": "end_time_local",
         "rawType": "datetime64[ns, Europe/Berlin]",
         "type": "unknown"
        },
        {
         "name": "eco",
         "rawType": "object",
         "type": "string"
        },
        {
         "name": "moves_normalized",
         "rawType": "object",
         "type": "string"
        },
        {
         "name": "moves_san_json",
         "rawType": "object",
         "type": "string"
        },
        {
         "name": "clocks_json",
         "rawType": "object",
         "type": "string"
        },
        {
         "name": "n_plies",
         "rawType": "int64",
         "type": "integer"
        },
        {
         "name": "opening_id",
         "rawType": "int64",
         "type": "integer"
        },
        {
         "name": "matched_plies",
         "rawType": "int64",
         "type": "integer"
        },
        {
         "name": "matched_fullmove",
         "rawType": "int64",
         "type": "integer"
        },
        {
         "name": "matched_prefix_json",
         "rawType": "object",
         "type": "string"
        },
        {
         "name": "opening_fullname",
         "rawType": "object",
         "type": "string"
        },
        {
         "name": "opening_name",
         "rawType": "object",
         "type": "string"
        },
        {
         "name": "opening_variation",
         "rawType": "object",
         "type": "string"
        },
        {
         "name": "opening_moves_san_json",
         "rawType": "object",
         "type": "string"
        }
       ],
       "ref": "7f540855-487d-47df-a876-d09269c0cfc3",
       "rows": [
        [
         "0",
         "2020-07-10 23:04:33+00:00",
         "JoeShift",
         "BryceMattos",
         "white",
         "win",
         "win",
         "resigned",
         "1078",
         "954",
         "True",
         "chess",
         "blitz",
         "300+5",
         "5m+5s",
         "rnbqkbnr/pppppppp/8/8/8/8/PPPPPPPP/RNBQKBNR w KQkq - 0 1",
         "https://www.chess.com/game/live/5131150459",
         "https://www.chess.com/openings/Kings-Gambit-2...d6",
         null,
         "2020-07-11 01:04:33+02:00",
         "C30",
         "1. e4 e5 2. f4 d6 3. Bc4 Nf6 4. Nc3 a6 5. Nf3 b5 6. Bb3 exf4 7. d4 Bg4 8. O-O b4 9. Nd5 Nxe4 10. Qe1 Bxf3 11. Rxf3 Nc6 12. Qxe4+ Be7 13. Nxe7 Nxe7 14. Qxf4 Rf8 15. Bd2 a5 16. Re1 Qd7 17. Qh4 O-O-O 18. Qxe7 Rfe8 19. Qxd7+ Rxd7 20. Rxe8+",
         "[\"e4\", \"e5\", \"f4\", \"d6\", \"Bc4\", \"Nf6\", \"Nc3\", \"a6\", \"Nf3\", \"b5\", \"Bb3\", \"exf4\", \"d4\", \"Bg4\", \"O-O\", \"b4\", \"Nd5\", \"Nxe4\", \"Qe1\", \"Bxf3\", \"Rxf3\", \"Nc6\", \"Qxe4+\", \"Be7\", \"Nxe7\", \"Nxe7\", \"Qxf4\", \"Rf8\", \"Bd2\", \"a5\", \"Re1\", \"Qd7\", \"Qh4\", \"O-O-O\", \"Qxe7\", \"Rfe8\", \"Qxd7+\", \"Rxd7\", \"Rxe8+\"]",
         "[\"0:05:04.9\", \"0:05:04.9\", \"0:05:08.4\", \"0:05:06\", \"0:05:09\", \"0:05:07.5\", \"0:05:12.1\", \"0:05:03.1\", \"0:05:14.9\", \"0:05:06.8\", \"0:04:48.8\", \"0:05:09.2\", \"0:04:48.9\", \"0:04:53\", \"0:04:46.2\", \"0:04:43.9\", \"0:03:54.8\", \"0:04:31.8\", \"0:03:40.3\", \"0:04:21.5\", \"0:03:13.2\", \"0:04:13\", \"0:03:06.6\", \"0:04:06.9\", \"0:02:31.4\", \"0:04:08.5\", \"0:02:35\", \"0:03:51.9\", \"0:02:13.8\", \"0:03:53.6\", \"0:02:15.7\", \"0:03:26.9\", \"0:01:57.4\", \"0:03:28.2\", \"0:01:50.9\", \"0:03:18.1\", \"0:01:52.5\", \"0:03:21.6\", \"0:01:56\"]",
         "39",
         "1827",
         "3",
         "2",
         "[\"e4\", \"e5\", \"f4\"]",
         "King's Gambit",
         "King's Gambit",
         "",
         "[\"e4\", \"e5\", \"f4\"]"
        ],
        [
         "1",
         "2020-07-10 23:22:29+00:00",
         "JoeShift",
         "rhasc",
         "black",
         "win",
         "win",
         "resigned",
         "1254",
         "1194",
         "True",
         "chess",
         "blitz",
         "300+5",
         "5m+5s",
         "rnbqkbnr/pppppppp/8/8/8/8/PPPPPPPP/RNBQKBNR w KQkq - 0 1",
         "https://www.chess.com/game/live/5131179177",
         "https://www.chess.com/openings/Sicilian-Defense-Bowdler-Attack-2...Nc6",
         null,
         "2020-07-11 01:22:29+02:00",
         "B20",
         "1. e4 c5 2. Bc4 Nc6 3. Bxf7+ Kxf7 4. Qh5+ g6 5. Qxc5 Nf6 6. Qc4+ Ke8 7. Nc3 e5 8. d3 a6 9. Nd5 Nxd5 10. exd5 Ne7 11. Bg5 h6 12. Bf6 Rg8 13. d6 Qa5+ 14. c3 Qd5 15. dxe7 Qxc4 16. dxc4 Bxe7 17. Bxe5 d6 18. Bd4 Bf5 19. Nf3 Rc8 20. O-O Rxc4 21. Rfe1 Kf7 22. Nh4 Bxh4 23. Re3 Rc7 24. Rae1 Re7 25. a4 Rge8 26. g3 Bg5 27. f4 Bf6 28. Bxf6 Kxf6 29. Rxe7 Rxe7 30. Rd1 Rd7 31. b4 d5 32. a5 Be4 33. Kf2 b5 34. axb6 Rb7 35. Ke3 Rxb6 36. Kd4 Rb5 37. Ra1 Rb6 38. Ra5 g5 39. Kc5 Re6 40. b5 axb5 41. Rxb5 gxf4 42. gxf4 Kf5 43. c4 dxc4 44. Kxc4+ Kxf4 45. Rh5 Kg4 46. Rc5 Rf6 47. Kd4 Bg6 48. Rc4 Rf4+ 49. Kc5 Rxc4+ 50. Kxc4 Kh3 51. Kd4 Kxh2 52. Ke3 h5 53. Kf4 Be8 54. Kg5 Kg3 55. Kf5 h4 56. Ke4 h3 57. Ke3 h2 58. Ke2 h1=Q",
         "[\"e4\", \"c5\", \"Bc4\", \"Nc6\", \"Bxf7+\", \"Kxf7\", \"Qh5+\", \"g6\", \"Qxc5\", \"Nf6\", \"Qc4+\", \"Ke8\", \"Nc3\", \"e5\", \"d3\", \"a6\", \"Nd5\", \"Nxd5\", \"exd5\", \"Ne7\", \"Bg5\", \"h6\", \"Bf6\", \"Rg8\", \"d6\", \"Qa5+\", \"c3\", \"Qd5\", \"dxe7\", \"Qxc4\", \"dxc4\", \"Bxe7\", \"Bxe5\", \"d6\", \"Bd4\", \"Bf5\", \"Nf3\", \"Rc8\", \"O-O\", \"Rxc4\", \"Rfe1\", \"Kf7\", \"Nh4\", \"Bxh4\", \"Re3\", \"Rc7\", \"Rae1\", \"Re7\", \"a4\", \"Rge8\", \"g3\", \"Bg5\", \"f4\", \"Bf6\", \"Bxf6\", \"Kxf6\", \"Rxe7\", \"Rxe7\", \"Rd1\", \"Rd7\", \"b4\", \"d5\", \"a5\", \"Be4\", \"Kf2\", \"b5\", \"axb6\", \"Rb7\", \"Ke3\", \"Rxb6\", \"Kd4\", \"Rb5\", \"Ra1\", \"Rb6\", \"Ra5\", \"g5\", \"Kc5\", \"Re6\", \"b5\", \"axb5\", \"Rxb5\", \"gxf4\", \"gxf4\", \"Kf5\", \"c4\", \"dxc4\", \"Kxc4+\", \"Kxf4\", \"Rh5\", \"Kg4\", \"Rc5\", \"Rf6\", \"Kd4\", \"Bg6\", \"Rc4\", \"Rf4+\", \"Kc5\", \"Rxc4+\", \"Kxc4\", \"Kh3\", \"Kd4\", \"Kxh2\", \"Ke3\", \"h5\", \"Kf4\", \"Be8\", \"Kg5\", \"Kg3\", \"Kf5\", \"h4\", \"Ke4\", \"h3\", \"Ke3\", \"h2\", \"Ke2\", \"h1=Q\"]",
         "[\"0:05:04.9\", \"0:05:02.5\", \"0:05:07.6\", \"0:04:41.2\", \"0:05:07.9\", \"0:04:40.9\", \"0:05:09.3\", \"0:04:41.1\", \"0:05:11.6\", \"0:04:40.1\", \"0:05:08.3\", \"0:04:39.4\", \"0:05:11.2\", \"0:04:20\", \"0:05:06.7\", \"0:03:20.6\", \"0:04:39.7\", \"0:03:23.3\", \"0:04:41.1\", \"0:03:10.2\", \"0:04:35.3\", \"0:03:08.2\", \"0:04:20.2\", \"0:02:32.8\", \"0:04:20.9\", \"0:02:24.7\", \"0:04:13.3\", \"0:02:07.8\", \"0:03:53.4\", \"0:02:08.9\", \"0:03:52.4\", \"0:02:12.6\", \"0:03:48.2\", \"0:02:05.5\", \"0:03:46.3\", \"0:02:02.2\", \"0:03:48.4\", \"0:02:03.8\", \"0:03:43.8\", \"0:01:58.7\", \"0:03:43.4\", \"0:01:58\", \"0:03:39.7\", \"0:01:54.9\", \"0:03:26.7\", \"0:01:25.9\", \"0:03:27.2\", \"0:01:29.5\", \"0:03:03\", \"0:01:27.6\", \"0:02:57.3\", \"0:01:05.1\", \"0:03:00.2\", \"0:00:54.7\", \"0:03:00.6\", \"0:00:58.6\", \"0:02:48.4\", \"0:01:02.5\", \"0:02:47.3\", \"0:00:49.6\", \"0:02:49\", \"0:00:53.4\", \"0:02:50.3\", \"0:00:57\", \"0:02:49.6\", \"0:00:59.5\", \"0:02:46.5\", \"0:01:00.1\", \"0:02:32.8\", \"0:01:03.6\", \"0:02:35.4\", \"0:00:55.6\", \"0:02:34.2\", \"0:00:38.9\", \"0:02:32.2\", \"0:00:28.2\", \"0:02:33.4\", \"0:00:24.7\", \"0:02:31.1\", \"0:00:28.3\", \"0:02:29.9\", \"0:00:31.7\", \"0:02:32.7\", \"0:00:34.4\", \"0:02:30.7\", \"0:00:34\", \"0:02:31.5\", \"0:00:36.9\", \"0:02:21.4\", \"0:00:39.8\", \"0:02:12.1\", \"0:00:16.1\", \"0:02:08.3\", \"0:00:14.6\", \"0:02:07.6\", \"0:00:17.3\", \"0:02:00.5\", \"0:00:21.6\", \"0:02:03.6\", \"0:00:25.9\", \"0:02:03.7\", \"0:00:30.2\", \"0:02:07.1\", \"0:00:34\", \"0:02:10.3\", \"0:00:36\", \"0:02:12.4\", \"0:00:39.7\", \"0:02:00.8\", \"0:00:43.8\", \"0:02:03.9\", \"0:00:48.2\", \"0:02:07.5\", \"0:00:52.6\", \"0:02:10.8\", \"0:00:56.3\"]",
         "116",
         "1109",
         "3",
         "2",
         "[\"e4\", \"c5\", \"Bc4\"]",
         "Sicilian Defense: Bowdler Attack",
         "Sicilian Defense",
         "Bowdler Attack",
         "[\"e4\", \"c5\", \"Bc4\"]"
        ],
        [
         "2",
         "2023-06-16 14:50:59+00:00",
         "JoeShift",
         "LucBrasi",
         "white",
         "win",
         "win",
         "timeout",
         "1254",
         "678",
         "False",
         "chess",
         "rapid",
         "600",
         "10m",
         "rnbqkbnr/pppppppp/8/8/8/8/PPPPPPPP/RNBQKBNR w KQkq - 0 1",
         "https://www.chess.com/game/live/80664880525",
         "https://www.chess.com/openings/Kings-Gambit-Declined-Queens-Knight-Defense",
         null,
         "2023-06-16 16:50:59+02:00",
         "C30",
         "1. e4 e5 2. f4 Nc6 3. Bc4 d5 4. Bxd5 f6 5. f5 Nge7 6. Qh5+ g6 7. fxg6 Nxg6 8. Nf3 Bc5 9. Nc3 Qe7 10. Nh4 Qg7 11. d3 Nd4 12. Bh6 Qe7 13. O-O-O c6 14. Nxg6 Qd7 15. Nxe5+ Kd8 16. Nxd7 Bxd7 17. Bxc6 bxc6 18. Qxc5 Ne6 19. Qf2 Ke7 20. Rhf1 Raf8 21. Bxf8+ Rxf8 22. e5 f5 23. g4 f4 24. Qh4+ Ke8 25. Ne4 Nd4 26. Rf2 f3 27. c3 Bxg4 28. Qxg4 Ne2+ 29. Rxe2 fxe2 30. Re1 Rf1 31. Qxe2",
         "[\"e4\", \"e5\", \"f4\", \"Nc6\", \"Bc4\", \"d5\", \"Bxd5\", \"f6\", \"f5\", \"Nge7\", \"Qh5+\", \"g6\", \"fxg6\", \"Nxg6\", \"Nf3\", \"Bc5\", \"Nc3\", \"Qe7\", \"Nh4\", \"Qg7\", \"d3\", \"Nd4\", \"Bh6\", \"Qe7\", \"O-O-O\", \"c6\", \"Nxg6\", \"Qd7\", \"Nxe5+\", \"Kd8\", \"Nxd7\", \"Bxd7\", \"Bxc6\", \"bxc6\", \"Qxc5\", \"Ne6\", \"Qf2\", \"Ke7\", \"Rhf1\", \"Raf8\", \"Bxf8+\", \"Rxf8\", \"e5\", \"f5\", \"g4\", \"f4\", \"Qh4+\", \"Ke8\", \"Ne4\", \"Nd4\", \"Rf2\", \"f3\", \"c3\", \"Bxg4\", \"Qxg4\", \"Ne2+\", \"Rxe2\", \"fxe2\", \"Re1\", \"Rf1\", \"Qxe2\"]",
         "[\"0:10:00\", \"0:10:00\", \"0:09:58.8\", \"0:09:46.4\", \"0:09:54.2\", \"0:09:33.9\", \"0:09:47.5\", \"0:09:09.3\", \"0:09:07.7\", \"0:08:54.7\", \"0:09:03.5\", \"0:08:33.1\", \"0:08:56.5\", \"0:07:58\", \"0:08:50.2\", \"0:07:29.1\", \"0:07:15.7\", \"0:07:01.9\", \"0:06:58.5\", \"0:06:18.2\", \"0:06:38.7\", \"0:06:03.2\", \"0:06:18.9\", \"0:05:15\", \"0:06:08.6\", \"0:04:33.3\", \"0:06:03.2\", \"0:04:07.4\", \"0:05:32.3\", \"0:03:53.8\", \"0:04:53.5\", \"0:03:46.6\", \"0:04:40.9\", \"0:03:31.7\", \"0:04:39\", \"0:02:47.3\", \"0:04:04.6\", \"0:01:53.5\", \"0:03:46.1\", \"0:00:59.1\", \"0:03:42.4\", \"0:00:57.5\", \"0:03:40.6\", \"0:00:51.5\", \"0:03:38.4\", \"0:00:41\", \"0:03:36.1\", \"0:00:28.2\", \"0:03:15\", \"0:00:23.7\", \"0:02:54.7\", \"0:00:21.7\", \"0:02:51.7\", \"0:00:08.5\", \"0:02:47.8\", \"0:00:04.7\", \"0:02:43.4\", \"0:00:03.4\", \"0:02:42.6\", \"0:00:00.3\", \"0:02:40.5\"]",
         "61",
         "1854",
         "4",
         "2",
         "[\"e4\", \"e5\", \"f4\", \"Nc6\"]",
         "King's Gambit Declined: Queen's Knight Defense",
         "King's Gambit Declined",
         "Queen's Knight Defense",
         "[\"e4\", \"e5\", \"f4\", \"Nc6\"]"
        ],
        [
         "3",
         "2025-09-04 17:02:43+00:00",
         "JoeShift",
         "Coach-David",
         "white",
         "win",
         "win",
         "checkmated",
         "800",
         "900",
         "False",
         "chess",
         "daily",
         "-",
         "-",
         "rnbqkbnr/pppppppp/8/8/8/8/PPPPPPPP/RNBQKBNR w KQkq - 0 1",
         "https://www.chess.com/game/daily/3799224",
         null,
         null,
         "2025-09-04 19:02:43+02:00",
         "B00",
         "1. e4 Nc6 2. f4 h5 3. Nf3 Nd4 4. Nxd4 e5 5. Nf3 Bb4 6. Bc4 Ba5 7. O-O Bb6+ 8. d4 Bxd4+ 9. Nxd4 exd4 10. Qxd4 d6 11. Qxg7 Qf6 12. Qg5 Qxg5 13. fxg5 Be6 14. Bxe6 fxe6 15. Nc3 Rd8 16. Be3 a6 17. Rad1 d5 18. exd5 e5 19. Rf5 Ne7 20. Rxe5 Kd7 21. Ne4 b5 22. Bc5 Ng6 23. Nf6+ Kc8 24. Re6 Nf4 25. Rxa6 Rxd5 26. Nxd5 Nxd5 27. Rxd5 c6 28. Rxc6+ Kb7 29. Rb6+ Kc8 30. Rf5 Rd8 31. Rf8 Rxf8 32. Bxf8 Kc7 33. Re6 Kc8 34. g6 Kd7 35. Re1 b4 36. g7 h4 37. g8=Q Kc6 38. Bxb4 Kb7 39. Qc4 h3 40. Re7+ Kb6 41. Qc5+ Ka6 42. Ra7#",
         "[\"e4\", \"Nc6\", \"f4\", \"h5\", \"Nf3\", \"Nd4\", \"Nxd4\", \"e5\", \"Nf3\", \"Bb4\", \"Bc4\", \"Ba5\", \"O-O\", \"Bb6+\", \"d4\", \"Bxd4+\", \"Nxd4\", \"exd4\", \"Qxd4\", \"d6\", \"Qxg7\", \"Qf6\", \"Qg5\", \"Qxg5\", \"fxg5\", \"Be6\", \"Bxe6\", \"fxe6\", \"Nc3\", \"Rd8\", \"Be3\", \"a6\", \"Rad1\", \"d5\", \"exd5\", \"e5\", \"Rf5\", \"Ne7\", \"Rxe5\", \"Kd7\", \"Ne4\", \"b5\", \"Bc5\", \"Ng6\", \"Nf6+\", \"Kc8\", \"Re6\", \"Nf4\", \"Rxa6\", \"Rxd5\", \"Nxd5\", \"Nxd5\", \"Rxd5\", \"c6\", \"Rxc6+\", \"Kb7\", \"Rb6+\", \"Kc8\", \"Rf5\", \"Rd8\", \"Rf8\", \"Rxf8\", \"Bxf8\", \"Kc7\", \"Re6\", \"Kc8\", \"g6\", \"Kd7\", \"Re1\", \"b4\", \"g7\", \"h4\", \"g8=Q\", \"Kc6\", \"Bxb4\", \"Kb7\", \"Qc4\", \"h3\", \"Re7+\", \"Kb6\", \"Qc5+\", \"Ka6\", \"Ra7#\"]",
         "[null, null, null, null, null, null, null, null, null, null, null, null, null, null, null, null, null, null, null, null, null, null, null, null, null, null, null, null, null, null, null, null, null, null, null, null, null, null, null, null, null, null, null, null, null, null, null, null, null, null, null, null, null, null, null, null, null, null, null, null, null, null, null, null, null, null, null, null, null, null, null, null, null, null, null, null, null, null, null, null, null, null, null]",
         "83",
         "757",
         "2",
         "1",
         "[\"e4\", \"Nc6\"]",
         "Nimzowitsch Defense",
         "Nimzowitsch Defense",
         "",
         "[\"e4\", \"Nc6\"]"
        ],
        [
         "4",
         "2025-09-04 17:17:44+00:00",
         "JoeShift",
         "Coach-David",
         "white",
         "win",
         "win",
         "checkmated",
         "800",
         "1200",
         "False",
         "chess",
         "daily",
         "-",
         "-",
         "rnbqkbnr/pppppppp/8/8/8/8/PPPPPPPP/RNBQKBNR w KQkq - 0 1",
         "https://www.chess.com/game/daily/3799870",
         null,
         null,
         "2025-09-04 19:17:44+02:00",
         "B21",
         "1. e4 c5 2. f4 g6 3. Nf3 d6 4. Bc4 b5 5. Bxb5+ Bd7 6. Bxd7+ Qxd7 7. O-O Qc6 8. d3 d5 9. Qe2 Qa6 10. Bd2 Qe6 11. Nc3 Bg7 12. Nxd5 Qc8 13. Ne5 e6 14. Nc3 Qb7 15. Be3 Bxe5 16. fxe5 Qxb2 17. Na4 Qxe5 18. Nxc5 h5 19. Qf2 f5 20. Rae1 Ne7 21. exf5 Nxf5 22. Bg5 Qd4 23. Rxe6+ Kf8 24. Qxd4 Kg8 25. Re8+ Kf7 26. Qd7+ Nxd7 27. Rxh8 Rxh8 28. Nxd7 Kg8 29. c4 Kf7 30. c5 Ke6 31. c6 Kd6 32. Rc1 Kc7 33. Bf6 Rc8 34. d4 g5 35. d5 Nd6 36. Bxg5 Rh8 37. Rb1 Ne4 38. Rb7+ Kd6 39. Bf4+ Kxd5 40. c7 Ke6 41. Nb8 Nd6 42. Bxd6 Kxd6 43. Na6 Ke6 44. Rb8 Rc8 45. Rxc8 Kd5 46. Rh8 Kd4 47. c8=Q Ke5 48. Qc5+ Kf4 49. Qe7 h4 50. Rf8+ Kg4 51. Qg7+ Kh5 52. Rh8#",
         "[\"e4\", \"c5\", \"f4\", \"g6\", \"Nf3\", \"d6\", \"Bc4\", \"b5\", \"Bxb5+\", \"Bd7\", \"Bxd7+\", \"Qxd7\", \"O-O\", \"Qc6\", \"d3\", \"d5\", \"Qe2\", \"Qa6\", \"Bd2\", \"Qe6\", \"Nc3\", \"Bg7\", \"Nxd5\", \"Qc8\", \"Ne5\", \"e6\", \"Nc3\", \"Qb7\", \"Be3\", \"Bxe5\", \"fxe5\", \"Qxb2\", \"Na4\", \"Qxe5\", \"Nxc5\", \"h5\", \"Qf2\", \"f5\", \"Rae1\", \"Ne7\", \"exf5\", \"Nxf5\", \"Bg5\", \"Qd4\", \"Rxe6+\", \"Kf8\", \"Qxd4\", \"Kg8\", \"Re8+\", \"Kf7\", \"Qd7+\", \"Nxd7\", \"Rxh8\", \"Rxh8\", \"Nxd7\", \"Kg8\", \"c4\", \"Kf7\", \"c5\", \"Ke6\", \"c6\", \"Kd6\", \"Rc1\", \"Kc7\", \"Bf6\", \"Rc8\", \"d4\", \"g5\", \"d5\", \"Nd6\", \"Bxg5\", \"Rh8\", \"Rb1\", \"Ne4\", \"Rb7+\", \"Kd6\", \"Bf4+\", \"Kxd5\", \"c7\", \"Ke6\", \"Nb8\", \"Nd6\", \"Bxd6\", \"Kxd6\", \"Na6\", \"Ke6\", \"Rb8\", \"Rc8\", \"Rxc8\", \"Kd5\", \"Rh8\", \"Kd4\", \"c8=Q\", \"Ke5\", \"Qc5+\", \"Kf4\", \"Qe7\", \"h4\", \"Rf8+\", \"Kg4\", \"Qg7+\", \"Kh5\", \"Rh8#\"]",
         "[null, null, null, null, null, null, null, null, null, null, null, null, null, null, null, null, null, null, null, null, null, null, null, null, null, null, null, null, null, null, null, null, null, null, null, null, null, null, null, null, null, null, null, null, null, null, null, null, null, null, null, null, null, null, null, null, null, null, null, null, null, null, null, null, null, null, null, null, null, null, null, null, null, null, null, null, null, null, null, null, null, null, null, null, null, null, null, null, null, null, null, null, null, null, null, null, null, null, null, null, null, null, null]",
         "103",
         "1136",
         "3",
         "2",
         "[\"e4\", \"c5\", \"f4\"]",
         "Sicilian Defense: McDonnell Attack",
         "Sicilian Defense",
         "McDonnell Attack",
         "[\"e4\", \"c5\", \"f4\"]"
        ]
       ],
       "shape": {
        "columns": 32,
        "rows": 5
       }
      },
      "text/html": [
       "<div>\n",
       "<style scoped>\n",
       "    .dataframe tbody tr th:only-of-type {\n",
       "        vertical-align: middle;\n",
       "    }\n",
       "\n",
       "    .dataframe tbody tr th {\n",
       "        vertical-align: top;\n",
       "    }\n",
       "\n",
       "    .dataframe thead th {\n",
       "        text-align: right;\n",
       "    }\n",
       "</style>\n",
       "<table border=\"1\" class=\"dataframe\">\n",
       "  <thead>\n",
       "    <tr style=\"text-align: right;\">\n",
       "      <th></th>\n",
       "      <th>end_time</th>\n",
       "      <th>username</th>\n",
       "      <th>opponent_username</th>\n",
       "      <th>user_played_as</th>\n",
       "      <th>user_result</th>\n",
       "      <th>user_result_simple</th>\n",
       "      <th>opponent_result</th>\n",
       "      <th>user_rating</th>\n",
       "      <th>opponent_rating</th>\n",
       "      <th>rated</th>\n",
       "      <th>...</th>\n",
       "      <th>clocks_json</th>\n",
       "      <th>n_plies</th>\n",
       "      <th>opening_id</th>\n",
       "      <th>matched_plies</th>\n",
       "      <th>matched_fullmove</th>\n",
       "      <th>matched_prefix_json</th>\n",
       "      <th>opening_fullname</th>\n",
       "      <th>opening_name</th>\n",
       "      <th>opening_variation</th>\n",
       "      <th>opening_moves_san_json</th>\n",
       "    </tr>\n",
       "  </thead>\n",
       "  <tbody>\n",
       "    <tr>\n",
       "      <th>0</th>\n",
       "      <td>2020-07-10 23:04:33+00:00</td>\n",
       "      <td>JoeShift</td>\n",
       "      <td>BryceMattos</td>\n",
       "      <td>white</td>\n",
       "      <td>win</td>\n",
       "      <td>win</td>\n",
       "      <td>resigned</td>\n",
       "      <td>1078</td>\n",
       "      <td>954</td>\n",
       "      <td>True</td>\n",
       "      <td>...</td>\n",
       "      <td>[\"0:05:04.9\", \"0:05:04.9\", \"0:05:08.4\", \"0:05:...</td>\n",
       "      <td>39</td>\n",
       "      <td>1827</td>\n",
       "      <td>3</td>\n",
       "      <td>2</td>\n",
       "      <td>[\"e4\", \"e5\", \"f4\"]</td>\n",
       "      <td>King's Gambit</td>\n",
       "      <td>King's Gambit</td>\n",
       "      <td></td>\n",
       "      <td>[\"e4\", \"e5\", \"f4\"]</td>\n",
       "    </tr>\n",
       "    <tr>\n",
       "      <th>1</th>\n",
       "      <td>2020-07-10 23:22:29+00:00</td>\n",
       "      <td>JoeShift</td>\n",
       "      <td>rhasc</td>\n",
       "      <td>black</td>\n",
       "      <td>win</td>\n",
       "      <td>win</td>\n",
       "      <td>resigned</td>\n",
       "      <td>1254</td>\n",
       "      <td>1194</td>\n",
       "      <td>True</td>\n",
       "      <td>...</td>\n",
       "      <td>[\"0:05:04.9\", \"0:05:02.5\", \"0:05:07.6\", \"0:04:...</td>\n",
       "      <td>116</td>\n",
       "      <td>1109</td>\n",
       "      <td>3</td>\n",
       "      <td>2</td>\n",
       "      <td>[\"e4\", \"c5\", \"Bc4\"]</td>\n",
       "      <td>Sicilian Defense: Bowdler Attack</td>\n",
       "      <td>Sicilian Defense</td>\n",
       "      <td>Bowdler Attack</td>\n",
       "      <td>[\"e4\", \"c5\", \"Bc4\"]</td>\n",
       "    </tr>\n",
       "    <tr>\n",
       "      <th>2</th>\n",
       "      <td>2023-06-16 14:50:59+00:00</td>\n",
       "      <td>JoeShift</td>\n",
       "      <td>LucBrasi</td>\n",
       "      <td>white</td>\n",
       "      <td>win</td>\n",
       "      <td>win</td>\n",
       "      <td>timeout</td>\n",
       "      <td>1254</td>\n",
       "      <td>678</td>\n",
       "      <td>False</td>\n",
       "      <td>...</td>\n",
       "      <td>[\"0:10:00\", \"0:10:00\", \"0:09:58.8\", \"0:09:46.4...</td>\n",
       "      <td>61</td>\n",
       "      <td>1854</td>\n",
       "      <td>4</td>\n",
       "      <td>2</td>\n",
       "      <td>[\"e4\", \"e5\", \"f4\", \"Nc6\"]</td>\n",
       "      <td>King's Gambit Declined: Queen's Knight Defense</td>\n",
       "      <td>King's Gambit Declined</td>\n",
       "      <td>Queen's Knight Defense</td>\n",
       "      <td>[\"e4\", \"e5\", \"f4\", \"Nc6\"]</td>\n",
       "    </tr>\n",
       "    <tr>\n",
       "      <th>3</th>\n",
       "      <td>2025-09-04 17:02:43+00:00</td>\n",
       "      <td>JoeShift</td>\n",
       "      <td>Coach-David</td>\n",
       "      <td>white</td>\n",
       "      <td>win</td>\n",
       "      <td>win</td>\n",
       "      <td>checkmated</td>\n",
       "      <td>800</td>\n",
       "      <td>900</td>\n",
       "      <td>False</td>\n",
       "      <td>...</td>\n",
       "      <td>[null, null, null, null, null, null, null, nul...</td>\n",
       "      <td>83</td>\n",
       "      <td>757</td>\n",
       "      <td>2</td>\n",
       "      <td>1</td>\n",
       "      <td>[\"e4\", \"Nc6\"]</td>\n",
       "      <td>Nimzowitsch Defense</td>\n",
       "      <td>Nimzowitsch Defense</td>\n",
       "      <td></td>\n",
       "      <td>[\"e4\", \"Nc6\"]</td>\n",
       "    </tr>\n",
       "    <tr>\n",
       "      <th>4</th>\n",
       "      <td>2025-09-04 17:17:44+00:00</td>\n",
       "      <td>JoeShift</td>\n",
       "      <td>Coach-David</td>\n",
       "      <td>white</td>\n",
       "      <td>win</td>\n",
       "      <td>win</td>\n",
       "      <td>checkmated</td>\n",
       "      <td>800</td>\n",
       "      <td>1200</td>\n",
       "      <td>False</td>\n",
       "      <td>...</td>\n",
       "      <td>[null, null, null, null, null, null, null, nul...</td>\n",
       "      <td>103</td>\n",
       "      <td>1136</td>\n",
       "      <td>3</td>\n",
       "      <td>2</td>\n",
       "      <td>[\"e4\", \"c5\", \"f4\"]</td>\n",
       "      <td>Sicilian Defense: McDonnell Attack</td>\n",
       "      <td>Sicilian Defense</td>\n",
       "      <td>McDonnell Attack</td>\n",
       "      <td>[\"e4\", \"c5\", \"f4\"]</td>\n",
       "    </tr>\n",
       "  </tbody>\n",
       "</table>\n",
       "<p>5 rows × 32 columns</p>\n",
       "</div>"
      ],
      "text/plain": [
       "                   end_time  username opponent_username user_played_as  \\\n",
       "0 2020-07-10 23:04:33+00:00  JoeShift       BryceMattos          white   \n",
       "1 2020-07-10 23:22:29+00:00  JoeShift             rhasc          black   \n",
       "2 2023-06-16 14:50:59+00:00  JoeShift          LucBrasi          white   \n",
       "3 2025-09-04 17:02:43+00:00  JoeShift       Coach-David          white   \n",
       "4 2025-09-04 17:17:44+00:00  JoeShift       Coach-David          white   \n",
       "\n",
       "  user_result user_result_simple opponent_result  user_rating  \\\n",
       "0         win                win        resigned         1078   \n",
       "1         win                win        resigned         1254   \n",
       "2         win                win         timeout         1254   \n",
       "3         win                win      checkmated          800   \n",
       "4         win                win      checkmated          800   \n",
       "\n",
       "   opponent_rating  rated  ...  \\\n",
       "0              954   True  ...   \n",
       "1             1194   True  ...   \n",
       "2              678  False  ...   \n",
       "3              900  False  ...   \n",
       "4             1200  False  ...   \n",
       "\n",
       "                                         clocks_json n_plies opening_id  \\\n",
       "0  [\"0:05:04.9\", \"0:05:04.9\", \"0:05:08.4\", \"0:05:...      39       1827   \n",
       "1  [\"0:05:04.9\", \"0:05:02.5\", \"0:05:07.6\", \"0:04:...     116       1109   \n",
       "2  [\"0:10:00\", \"0:10:00\", \"0:09:58.8\", \"0:09:46.4...      61       1854   \n",
       "3  [null, null, null, null, null, null, null, nul...      83        757   \n",
       "4  [null, null, null, null, null, null, null, nul...     103       1136   \n",
       "\n",
       "  matched_plies matched_fullmove        matched_prefix_json  \\\n",
       "0             3                2         [\"e4\", \"e5\", \"f4\"]   \n",
       "1             3                2        [\"e4\", \"c5\", \"Bc4\"]   \n",
       "2             4                2  [\"e4\", \"e5\", \"f4\", \"Nc6\"]   \n",
       "3             2                1              [\"e4\", \"Nc6\"]   \n",
       "4             3                2         [\"e4\", \"c5\", \"f4\"]   \n",
       "\n",
       "                                 opening_fullname            opening_name  \\\n",
       "0                                   King's Gambit           King's Gambit   \n",
       "1                Sicilian Defense: Bowdler Attack        Sicilian Defense   \n",
       "2  King's Gambit Declined: Queen's Knight Defense  King's Gambit Declined   \n",
       "3                             Nimzowitsch Defense     Nimzowitsch Defense   \n",
       "4              Sicilian Defense: McDonnell Attack        Sicilian Defense   \n",
       "\n",
       "        opening_variation     opening_moves_san_json  \n",
       "0                                 [\"e4\", \"e5\", \"f4\"]  \n",
       "1          Bowdler Attack        [\"e4\", \"c5\", \"Bc4\"]  \n",
       "2  Queen's Knight Defense  [\"e4\", \"e5\", \"f4\", \"Nc6\"]  \n",
       "3                                      [\"e4\", \"Nc6\"]  \n",
       "4        McDonnell Attack         [\"e4\", \"c5\", \"f4\"]  \n",
       "\n",
       "[5 rows x 32 columns]"
      ]
     },
     "execution_count": 3,
     "metadata": {},
     "output_type": "execute_result"
    }
   ],
   "source": [
    "df.head()"
   ]
  },
  {
   "cell_type": "code",
   "execution_count": 8,
   "id": "8d1b05a3",
   "metadata": {},
   "outputs": [
    {
     "data": {
      "text/plain": [
       "rated\n",
       "True     62200\n",
       "False     2888\n",
       "Name: count, dtype: int64"
      ]
     },
     "execution_count": 8,
     "metadata": {},
     "output_type": "execute_result"
    }
   ],
   "source": [
    "df[\"rated\"].value_counts()"
   ]
  },
  {
   "cell_type": "code",
   "execution_count": 4,
   "id": "8a9c5915",
   "metadata": {},
   "outputs": [
    {
     "data": {
      "text/plain": [
       "time_label\n",
       "5m         112\n",
       "10m        106\n",
       "15m+10s     42\n",
       "2m+1s        8\n",
       "5m+5s        2\n",
       "-            2\n",
       "1m+1s        1\n",
       "Name: count, dtype: int64"
      ]
     },
     "execution_count": 4,
     "metadata": {},
     "output_type": "execute_result"
    }
   ],
   "source": [
    "df[\"time_label\"].value_counts()"
   ]
  },
  {
   "cell_type": "code",
   "execution_count": null,
   "id": "7ae87efa",
   "metadata": {},
   "outputs": [
    {
     "data": {
      "text/plain": [
       "time_control\n",
       "180          39100\n",
       "60           18168\n",
       "180+1         4595\n",
       "180+2          605\n",
       "300            450\n",
       "60+1           420\n",
       "600            324\n",
       "300+1          282\n",
       "600+2          228\n",
       "600+5          122\n",
       "1/86400         89\n",
       "300+2           88\n",
       "1/259200        79\n",
       "3600+45         73\n",
       "30              71\n",
       "900+2           67\n",
       "120             65\n",
       "1200+10         59\n",
       "900+3           48\n",
       "480             21\n",
       "300+5           16\n",
       "900             13\n",
       "480+2           12\n",
       "1500+10         11\n",
       "900+10           9\n",
       "1/1209600        8\n",
       "600+10           7\n",
       "1/604800         7\n",
       "420              6\n",
       "120+1            6\n",
       "720              5\n",
       "2700+15          5\n",
       "2700             4\n",
       "3+1              4\n",
       "1/432000         3\n",
       "1800             3\n",
       "180+3            3\n",
       "600+3            3\n",
       "1/172800         2\n",
       "240              2\n",
       "10               1\n",
       "300+10           1\n",
       "300+3            1\n",
       "180+5            1\n",
       "1200             1\n",
       "Name: count, dtype: int64"
      ]
     },
     "execution_count": 9,
     "metadata": {},
     "output_type": "execute_result"
    }
   ],
   "source": [
    "df[\"time_control\"].value_counts()"
   ]
  },
  {
   "cell_type": "code",
   "execution_count": 10,
   "id": "c4dc2590",
   "metadata": {},
   "outputs": [
    {
     "data": {
      "text/plain": [
       "white_result\n",
       "win                    30973\n",
       "resigned               22101\n",
       "timeout                 3730\n",
       "checkmated              2602\n",
       "repetition              2197\n",
       "agreed                  1678\n",
       "insufficient            1022\n",
       "timevsinsufficient       320\n",
       "stalemate                204\n",
       "abandoned                101\n",
       "50move                    71\n",
       "threecheck                47\n",
       "bughousepartnerlose       25\n",
       "kingofthehill             17\n",
       "Name: count, dtype: int64"
      ]
     },
     "execution_count": 10,
     "metadata": {},
     "output_type": "execute_result"
    }
   ],
   "source": [
    "df[\"white_result\"].value_counts()"
   ]
  },
  {
   "cell_type": "code",
   "execution_count": 11,
   "id": "d0dc17b9",
   "metadata": {},
   "outputs": [
    {
     "data": {
      "text/plain": [
       "black_result\n",
       "win                    28623\n",
       "resigned               24119\n",
       "timeout                 3655\n",
       "checkmated              2982\n",
       "repetition              2197\n",
       "agreed                  1678\n",
       "insufficient            1022\n",
       "timevsinsufficient       320\n",
       "stalemate                204\n",
       "abandoned                116\n",
       "50move                    71\n",
       "threecheck                47\n",
       "bughousepartnerlose       31\n",
       "kingofthehill             23\n",
       "Name: count, dtype: int64"
      ]
     },
     "execution_count": 11,
     "metadata": {},
     "output_type": "execute_result"
    }
   ],
   "source": [
    "df[\"black_result\"].value_counts()"
   ]
  },
  {
   "cell_type": "code",
   "execution_count": 14,
   "id": "fe527638",
   "metadata": {},
   "outputs": [
    {
     "data": {
      "text/plain": [
       "eco\n",
       "https://www.chess.com/openings/Reti-Opening-Kingside-Fianchetto-Variation-2.g3-Bg7-3.Bg2-d6-4.O-O                          595\n",
       "https://www.chess.com/openings/Queens-Pawn-Opening...2.g3-g6-3.Bg2-Bg7-4.Nf3                                               510\n",
       "https://www.chess.com/openings/Indian-Game-Knights-Variation-East-Indian-Defense...4.Bb2-d5-5.e3-O-O                       490\n",
       "https://www.chess.com/openings/Caro-Kann-Defense-Two-Knights-Attack-3...dxe4-4.Nxe4-Nf6-5.Ng3                              465\n",
       "https://www.chess.com/openings/Indian-Game-Knights-Variation-East-Indian-Defense...4.Bb2-O-O-5.e3-d6-6.Be2                 385\n",
       "                                                                                                                          ... \n",
       "https://www.chess.com/openings/Trompowsky-Attack-Classical-Defense-3.Nd2-h6                                                  1\n",
       "https://www.chess.com/openings/Sicilian-Defense-Open-Accelerated-Dragon-Maroczy-Bind-Formation...13.Rab1-Nd7-14.Be3-Nc5      1\n",
       "https://www.chess.com/openings/Queens-Gambit-Declined-Charousek-Variation-4.cxd5-exd5-5.Nf3                                  1\n",
       "https://www.chess.com/openings/Nimzo-Indian-Defense-Classical-Variation...5.Nf3-d5-6.cxd5-exd5-7.Bg5                         1\n",
       "https://www.chess.com/openings/Alapin-Sicilian-Defense-2...e6                                                                1\n",
       "Name: count, Length: 11827, dtype: int64"
      ]
     },
     "execution_count": 14,
     "metadata": {},
     "output_type": "execute_result"
    }
   ],
   "source": [
    "df[\"eco\"].value_counts()"
   ]
  },
  {
   "cell_type": "code",
   "execution_count": 8,
   "id": "86160637",
   "metadata": {},
   "outputs": [
    {
     "data": {
      "image/png": "[encoded data removed]",
      "text/plain": [
       "<Figure size 640x480 with 1 Axes>"
      ]
     },
     "metadata": {},
     "output_type": "display_data"
    }
   ],
   "source": [
    "df_sorted = df.sort_values(\"end_time\")\n",
    "\n",
    "mask = df_sorted[\"time_class\"] == \"blitz\"\n",
    "plt.plot(df_sorted.loc[mask, \"end_time\"], df_sorted.loc[mask, \"user_rating\"])\n",
    "plt.xlabel(\"Game end time\")\n",
    "plt.ylabel(\"User rating\")\n",
    "plt.title(\"Rating development over time\")\n",
    "plt.show()"
   ]
  },
  {
   "cell_type": "code",
   "execution_count": 4,
   "id": "7485c884",
   "metadata": {},
   "outputs": [
    {
     "data": {
      "image/png": "[encoded data removed]",
      "text/plain": [
       "<Figure size 640x480 with 1 Axes>"
      ]
     },
     "metadata": {},
     "output_type": "display_data"
    }
   ],
   "source": [
    "df[\"opponent_rating\"].hist(bins=20)  # 20 equi-width bins\n",
    "plt.xlabel(\"Opponent rating\")\n",
    "plt.ylabel(\"Count\")\n",
    "plt.title(\"Histogram of opponent ratings\")\n",
    "plt.show()"
   ]
  },
  {
   "cell_type": "code",
   "execution_count": 9,
   "id": "18c46165",
   "metadata": {},
   "outputs": [
    {
     "data": {
      "text/plain": [
       "0    [Event \"Live Chess\"]\\n[Site \"Chess.com\"]\\n[Dat...\n",
       "Name: pgn_url, dtype: object"
      ]
     },
     "execution_count": 9,
     "metadata": {},
     "output_type": "execute_result"
    }
   ],
   "source": [
    "df[\"pgn_url\"].head(1)"
   ]
  }
 ],
 "metadata": {
  "kernelspec": {
   "display_name": ".venv",
   "language": "python",
   "name": "python3"
  },
  "language_info": {
   "codemirror_mode": {
    "name": "ipython",
    "version": 3
   },
   "file_extension": ".py",
   "mimetype": "text/x-python",
   "name": "python",
   "nbconvert_exporter": "python",
   "pygments_lexer": "ipython3",
   "version": "3.13.7"
  }
 },
 "nbformat": 4,
 "nbformat_minor": 5
}
